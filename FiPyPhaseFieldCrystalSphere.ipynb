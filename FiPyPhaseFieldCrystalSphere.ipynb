{
 "cells": [
  {
   "cell_type": "markdown",
   "metadata": {},
   "source": [
    "FiPy scheme for solving phase field crystal model"
   ]
  },
  {
   "cell_type": "code",
   "execution_count": 1,
   "metadata": {
    "collapsed": true
   },
   "outputs": [],
   "source": [
    "from fipy import *\n",
    "import mayavi\n",
    "import numpy as np\n"
   ]
  },
  {
   "cell_type": "code",
   "execution_count": 2,
   "metadata": {
    "collapsed": true
   },
   "outputs": [],
   "source": [
    "# Create the spherical computational mesh using Gmsh\n",
    "# Mesh construction from the following example: \n",
    "# https://www.ctcms.nist.gov/fipy/examples/cahnHilliard/generated/examples.cahnHilliard.sphere.html"
   ]
  },
  {
   "cell_type": "code",
   "execution_count": 3,
   "metadata": {},
   "outputs": [],
   "source": [
    "mesh = Gmsh2DIn3DSpace('''\n",
    "      radius = 15.0;\n",
    "      cellSize = 0.4;\n",
    "      \n",
    "      // create inner 1/8 shell\n",
    "      Point(1) = {0, 0, 0, cellSize};\n",
    "      Point(2) = {-radius, 0, 0, cellSize};\n",
    "      Point(3) = {0, radius, 0, cellSize};\n",
    "      Point(4) = {0, 0, radius, cellSize};\n",
    "      Circle(1) = {2, 1, 3};\n",
    "      Circle(2) = {4, 1, 2};\n",
    "      Circle(3) = {4, 1, 3};\n",
    "      Line Loop(1) = {1, -3, 2} ;\n",
    "      Ruled Surface(1) = {1};\n",
    "      \n",
    "      // create remaining 7/8 inner shells\n",
    "      t1[] = Rotate {{0,0,1},{0,0,0},Pi/2} {Duplicata{Surface{1};}};\n",
    "      t2[] = Rotate {{0,0,1},{0,0,0},Pi} {Duplicata{Surface{1};}};\n",
    "      t3[] = Rotate {{0,0,1},{0,0,0},Pi*3/2} {Duplicata{Surface{1};}};\n",
    "      t4[] = Rotate {{0,1,0},{0,0,0},-Pi/2} {Duplicata{Surface{1};}};\n",
    "      t5[] = Rotate {{0,0,1},{0,0,0},Pi/2} {Duplicata{Surface{t4[0]};}};\n",
    "      t6[] = Rotate {{0,0,1},{0,0,0},Pi} {Duplicata{Surface{t4[0]};}};\n",
    "      t7[] = Rotate {{0,0,1},{0,0,0},Pi*3/2} {Duplicata{Surface{t4[0]};}};\n",
    "      \n",
    "      // create entire inner and outer shell\n",
    "      Surface Loop(100)={1,t1[0],t2[0],t3[0],t7[0],t4[0],t5[0],t6[0]};\n",
    "  ''', order=2).extrude(extrudeFunc=lambda r: 1.1 * r) \n"
   ]
  },
  {
   "cell_type": "code",
   "execution_count": 4,
   "metadata": {
    "collapsed": true
   },
   "outputs": [],
   "source": [
    "# Set up the phase field crystal PDE, qn is the characteristic wave number\n",
    "\n",
    "phi = CellVariable(name=r\"$\\phi$\", mesh=mesh) \n",
    "psi = CellVariable(name=r\"$\\psi$\", mesh=mesh) \n",
    "psi2 = CellVariable(name=r\"$\\psi_2$\", mesh=mesh) \n",
    "\n",
    "# initial field is Gaussian random variable\n",
    "phi.setValue(GaussianNoiseVariable(mesh=mesh,mean=0.25,variance=0.05)) \n",
    "PHI = phi.arithmeticFaceValue \n",
    "D = a = epsilon = 1.\n",
    "qn = 1.0\n",
    "sourcy = (phi*phi*phi-phi)*1.0+qn**4*phi\n",
    "eq1 = (TransientTerm(var=phi) == DiffusionTerm(coeff=D, var=psi))\n",
    "eq2 = (ImplicitSourceTerm(coeff=1., var=psi) == ImplicitSourceTerm(coeff=sourcy,var=phi)+DiffusionTerm(coeff=2*qn**2,var=phi)+DiffusionTerm(coeff=1.,var=psi2))\n",
    "eq3 = (ImplicitSourceTerm(coeff=1.,var=psi2) == DiffusionTerm(coeff=1.,var=phi))\n",
    "eq = eq1 & eq2 & eq3"
   ]
  },
  {
   "cell_type": "code",
   "execution_count": 5,
   "metadata": {
    "collapsed": true
   },
   "outputs": [],
   "source": [
    "# set up variables for time evolution \n",
    "# total elapsed time \"elapsed\" and exponential time step increase with exponent \"dexp\"\n",
    "\n",
    "dexp = -6\n",
    "elapsed = 0\n",
    "\n",
    "#evolve until time \"duration\"\n",
    "\n",
    "duration = 2\n",
    "while elapsed < duration:\n",
    "    dt = min(100, numerix.exp(dexp))\n",
    "    elapsed += dt\n",
    "    dexp += 0.1\n",
    "    eq.solve(dt=dt) "
   ]
  },
  {
   "cell_type": "code",
   "execution_count": 6,
   "metadata": {
    "collapsed": true
   },
   "outputs": [],
   "source": [
    "# convert mesh data to 3d point data\n",
    "\n",
    "\n",
    "x3d,y3d,z3d=mesh.faceCenters\n",
    "valc = np.array(phi.arithmeticFaceValue)\n",
    "\n",
    "rr = -1\n",
    "r3d=(x3d**2+y3d**2)**0.5\n",
    "theta3d=np.zeros(len(z3d))\n",
    "pp3d=np.zeros(len(z3d))\n",
    "x3dn = np.zeros(len(z3d))\n",
    "y3dn = np.zeros(len(z3d))\n",
    "z3dn = np.zeros(len(z3d))\n",
    "\n",
    "\n",
    "for i in range(0,len(z3d)):\n",
    "    pp3d[i]=np.arctan2(y3d[i],x3d[i])\n",
    "    rad = (x3d[i]**2+y3d[i]**2+z3d[i]**2)**0.5\n",
    "    theta3d[i]=np.arccos(z3d[i]/rad)\n",
    "    x3dn[i]=(rad+rr*valc[i])*np.cos(pp3d[i])*np.sin(theta3d[i])\n",
    "    y3dn[i]=(rad+rr*valc[i])*np.sin(pp3d[i])*np.sin(theta3d[i])\n",
    "    z3dn[i]=(rad+rr*valc[i])*np.cos(theta3d[i])\n",
    "\n",
    "\n",
    "valc=(valc-valc.min())/(valc.max()-valc.min())"
   ]
  },
  {
   "cell_type": "code",
   "execution_count": 7,
   "metadata": {
    "collapsed": true
   },
   "outputs": [],
   "source": [
    "# plot the solution using mayavi\n",
    "\n",
    "from mayavi import mlab\n",
    "import matplotlib as mpl\n",
    "pts = mlab.points3d(x3dn,y3dn,z3dn,scale_factor=0.5)\n",
    "pts.glyph.scale_mode = 'scale_by_vector'\n",
    "pts.mlab_source.dataset.point_data.scalars = valc\n",
    "mlab.show()"
   ]
  },
  {
   "cell_type": "code",
   "execution_count": null,
   "metadata": {
    "collapsed": true
   },
   "outputs": [],
   "source": [
    "# export solution data to file\n",
    "from fipy.tools import dump\n",
    "phi, mesh, psi, psi2, psi3 = dump.read('run1')"
   ]
  },
  {
   "cell_type": "code",
   "execution_count": null,
   "metadata": {
    "collapsed": true
   },
   "outputs": [],
   "source": [
    "data = dump.read('run1')"
   ]
  }
 ],
 "metadata": {
  "kernelspec": {
   "display_name": "Python 2",
   "language": "python",
   "name": "python2"
  },
  "language_info": {
   "codemirror_mode": {
    "name": "ipython",
    "version": 2
   },
   "file_extension": ".py",
   "mimetype": "text/x-python",
   "name": "python",
   "nbconvert_exporter": "python",
   "pygments_lexer": "ipython2",
   "version": "2.7.14"
  }
 },
 "nbformat": 4,
 "nbformat_minor": 2
}
